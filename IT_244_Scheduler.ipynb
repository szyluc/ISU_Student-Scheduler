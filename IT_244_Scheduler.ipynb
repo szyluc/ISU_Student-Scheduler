{
  "nbformat": 4,
  "nbformat_minor": 0,
  "metadata": {
    "colab": {
      "provenance": [],
      "authorship_tag": "ABX9TyNuHgZj9Ap+XDe9VeTIHYQ+",
      "include_colab_link": true
    },
    "kernelspec": {
      "name": "python3",
      "display_name": "Python 3"
    },
    "language_info": {
      "name": "python"
    }
  },
  "cells": [
    {
      "cell_type": "markdown",
      "metadata": {
        "id": "view-in-github",
        "colab_type": "text"
      },
      "source": [
        "<a href=\"https://colab.research.google.com/github/szyluc/Student-Scheduler/blob/main/IT_244_Scheduler.ipynb\" target=\"_parent\"><img src=\"https://colab.research.google.com/assets/colab-badge.svg\" alt=\"Open In Colab\"/></a>"
      ]
    },
    {
      "cell_type": "code",
      "execution_count": null,
      "metadata": {
        "id": "n_CqyXmo901S"
      },
      "outputs": [],
      "source": [
        "%%capture\n",
        "!pip install google-auth\n",
        "!pip install google-auth-oauthlib\n",
        "!pip install google-auth-httplib2\n",
        "!pip install google-api-python-client\n",
        "!!pip install gradio"
      ]
    },
    {
      "cell_type": "code",
      "source": [
        "from google.oauth2.credentials import Credentials\n",
        "from google_auth_oauthlib.flow import InstalledAppFlow\n",
        "from google.auth.transport.requests import Request\n",
        "import os\n",
        "import gradio as gr"
      ],
      "metadata": {
        "id": "VGTBR1KvAj3d"
      },
      "execution_count": null,
      "outputs": []
    },
    {
      "cell_type": "code",
      "source": [
        "# Loading FLAN-T5 Model directly from Transformers library, will compare results with GPT-2 Model as well\n",
        "from transformers import AutoTokenizer, AutoModelForSeq2SeqLM\n",
        "\n",
        "tokenizer = AutoTokenizer.from_pretrained(\"google/flan-t5-base\")\n",
        "model = AutoModelForSeq2SeqLM.from_pretrained(\"google/flan-t5-base\")"
      ],
      "metadata": {
        "id": "3OS8imxSAIIQ"
      },
      "execution_count": null,
      "outputs": []
    },
    {
      "cell_type": "code",
      "source": [
        "# For user authentication with Google Calendar\n",
        "SCOPES = ['https://www.googleapis.com/auth/calendar'] # Requests user for full permission of reading/writing into their Google Calendar\n",
        "\n",
        "def google_calendar_authentication():\n",
        "  creds = None\n",
        "  if os.path.exists('token.json'): # Checking if user session has a token.json\n",
        "    creds = Credentials.from_authorized_user_file('token.json', SCOPES)\n",
        "\n",
        "  if not creds or not creds.valid: # If user's credentials don't exist or are invalid, log in\n",
        "    if creds and creds.expired and creds.refresh_token:\n",
        "      creds.refresh(Request())\n",
        "    else:\n",
        "      flow = InstalledAppFlow.from_client_secrets_file(\"credentials.json\", SCOPES)\n",
        "      creds = flow.run_local_server(port = 0)\n",
        "\n",
        "    with open(\"token.json\", \"w\") as token: # Saving user's credentials for future sessions\n",
        "      token.write(creds.to_json())\n",
        "\n",
        "  return creds"
      ],
      "metadata": {
        "id": "abMI4hXo31Sg"
      },
      "execution_count": null,
      "outputs": []
    },
    {
      "cell_type": "code",
      "source": [
        "# For the textbox interface\n",
        "\n",
        "def schedule_to_be_generated(user_agenda):\n",
        "  # Does not do anything yet\n",
        "  return \"Schedule is being generated with the following tasks: {user_agenda}\"\n",
        "\n",
        "interface = gr.Interface(fn = schedule_to_be_generated, inputs = [gr.Textbox(lines = 5, placeholder = \"Enter your responsibilities and tasks here\", label = \"Your Agenda\"), gr.Button(\"Import to Google Calendar\")], outputs = \"text\", title = \"Scheduler\", description = \"Enter your responsibilities and tasks. A personalized schedule will be created for you! Click the 'Import' button to import to your Google Calendar!\")\n",
        "\n",
        "interface.launch()"
      ],
      "metadata": {
        "colab": {
          "base_uri": "https://localhost:8080/",
          "height": 695
        },
        "id": "ruw_CiaG3nSe",
        "outputId": "3eb5f6f3-d79a-4a78-c1cf-1b9295f07177"
      },
      "execution_count": null,
      "outputs": [
        {
          "output_type": "stream",
          "name": "stderr",
          "text": [
            "/usr/local/lib/python3.11/dist-packages/gradio/utils.py:1024: UserWarning: Expected 1 arguments for function <function schedule_to_be_generated at 0x7ef29f88bc40>, received 2.\n",
            "  warnings.warn(\n",
            "/usr/local/lib/python3.11/dist-packages/gradio/utils.py:1032: UserWarning: Expected maximum 1 arguments for function <function schedule_to_be_generated at 0x7ef29f88bc40>, received 2.\n",
            "  warnings.warn(\n"
          ]
        },
        {
          "output_type": "stream",
          "name": "stdout",
          "text": [
            "Running Gradio in a Colab notebook requires sharing enabled. Automatically setting `share=True` (you can turn this off by setting `share=False` in `launch()` explicitly).\n",
            "\n",
            "Colab notebook detected. To show errors in colab notebook, set debug=True in launch()\n",
            "* Running on public URL: https://92916421f247374d80.gradio.live\n",
            "\n",
            "This share link expires in 72 hours. For free permanent hosting and GPU upgrades, run `gradio deploy` from the terminal in the working directory to deploy to Hugging Face Spaces (https://huggingface.co/spaces)\n"
          ]
        },
        {
          "output_type": "display_data",
          "data": {
            "text/plain": [
              "<IPython.core.display.HTML object>"
            ],
            "text/html": [
              "<div><iframe src=\"https://92916421f247374d80.gradio.live\" width=\"100%\" height=\"500\" allow=\"autoplay; camera; microphone; clipboard-read; clipboard-write;\" frameborder=\"0\" allowfullscreen></iframe></div>"
            ]
          },
          "metadata": {}
        },
        {
          "output_type": "execute_result",
          "data": {
            "text/plain": []
          },
          "metadata": {},
          "execution_count": 13
        }
      ]
    }
  ]
}