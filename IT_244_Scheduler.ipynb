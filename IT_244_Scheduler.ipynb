{
  "cells": [
    {
      "cell_type": "markdown",
      "metadata": {
        "id": "view-in-github",
        "colab_type": "text"
      },
      "source": [
        "<a href=\"https://colab.research.google.com/github/szyluc/ISU_Student-Scheduler/blob/main/IT_244_Scheduler.ipynb\" target=\"_parent\"><img src=\"https://colab.research.google.com/assets/colab-badge.svg\" alt=\"Open In Colab\"/></a>"
      ]
    },
    {
      "cell_type": "code",
      "execution_count": 1,
      "metadata": {
        "id": "n_CqyXmo901S"
      },
      "outputs": [],
      "source": [
        "# PIP INSTALLS HERE\n",
        "%%capture\n",
        "!pip install --upgrade --quiet google-auth google-auth-oauthlib google-auth-httplib2 google-api-python-client\n",
        "!pip install gradio\n",
        "!pip install transformers\n",
        "!pip install torch"
      ]
    },
    {
      "cell_type": "code",
      "execution_count": 2,
      "metadata": {
        "id": "VGTBR1KvAj3d"
      },
      "outputs": [],
      "source": [
        "# IMPORTS HERE\n",
        "from google.oauth2.credentials import Credentials # 4 IMPORTS FOR GOOGLE CALENDAR\n",
        "from google_auth_oauthlib.flow import InstalledAppFlow\n",
        "from googleapiclient.discovery import build\n",
        "from google.auth.transport.requests import Request\n",
        "import datetime\n",
        "import os.path\n",
        "import re\n",
        "import torch\n",
        "import gradio as gr"
      ]
    },
    {
      "cell_type": "code",
      "source": [
        "# MODEL LOADING HERE\n",
        "from transformers import AutoTokenizer, AutoModelForCausalLM\n",
        "\n",
        "#Can swap between Qwen & Deepseek models here... Deepseek model may run into some bugs since it does not like use of system prompt.\n",
        "model = AutoModelForCausalLM.from_pretrained(\"Qwen/Qwen2.5-7B-Instruct-1M\", torch_dtype = torch.float16, device_map = \"auto\")\n",
        "tokenizer = AutoTokenizer.from_pretrained(\"Qwen/Qwen2.5-7B-Instruct-1M\")\n",
        "#tokenizer = AutoTokenizer.from_pretrained(\"deepseek-ai/DeepSeek-R1-Distill-Qwen-7B\")\n",
        "#model = AutoModelForCausalLM.from_pretrained(\"deepseek-ai/DeepSeek-R1-Distill-Qwen-7B\", torch_dtype = torch.float16, device_map = \"auto\")"
      ],
      "metadata": {
        "id": "twEg-Igxcdup",
        "colab": {
          "base_uri": "https://localhost:8080/",
          "height": 67,
          "referenced_widgets": [
            "c63d26ea7297401d8e7edb538b17e8a8",
            "b657240c5a1c40c1a45ec3ce3eb1981d",
            "957dd783f692481fb5380b282a13c543",
            "77857079018845698032badd4a2958cc",
            "ea5aa2b3269c4af5b9fde464485f46f6",
            "9baa5ce468bf4df1826a28a65409c91f",
            "968194aa76ed4a74a3fe25e7f47ccd69",
            "edd0ed2a77864cf8b5f6a5fd5def7471",
            "78c9a0963deb43f29e918294d44ad597",
            "7717e9072587484ba26459d8cc2b58b1",
            "f6dfe3fb42b84293b13018678d3d0c77"
          ]
        },
        "outputId": "934dd8ad-ac15-4b6b-f62b-3eed5a48b34e",
        "collapsed": true
      },
      "execution_count": 3,
      "outputs": [
        {
          "output_type": "stream",
          "name": "stderr",
          "text": [
            "Sliding Window Attention is enabled but not implemented for `sdpa`; unexpected results may be encountered.\n"
          ]
        },
        {
          "output_type": "display_data",
          "data": {
            "text/plain": [
              "Loading checkpoint shards:   0%|          | 0/4 [00:00<?, ?it/s]"
            ],
            "application/vnd.jupyter.widget-view+json": {
              "version_major": 2,
              "version_minor": 0,
              "model_id": "c63d26ea7297401d8e7edb538b17e8a8"
            }
          },
          "metadata": {}
        }
      ]
    },
    {
      "cell_type": "code",
      "source": [
        "# AUTHORIZATION TO USER'S GOOGLE CALENDAR\n",
        "from google.colab import auth\n",
        "import google.auth\n",
        "SCOPES = ['https://www.googleapis.com/auth/calendar.events']\n",
        "\n",
        "creds, _ = google.auth.default(scopes = SCOPES)\n",
        "\n",
        "def auth_google_calendar():\n",
        "    # Step 1: Authenticate the user using Colab's built-in auth\n",
        "    auth.authenticate_user() # TRIGGERS OAUTH FLOW, PROMPTS USER FOR AUTHENTICATION\n",
        "\n",
        "    # Step 2: Get credentials from google.auth and apply the correct scope\n",
        "    creds, _ = google.auth.default(scopes = SCOPES)\n",
        "\n",
        "    # Step 3: Check if the credentials are expired and refresh them if necessary\n",
        "    if creds and creds.expired and creds.refresh_token:\n",
        "        creds.refresh(Request())\n",
        "\n",
        "    # Step 4: Build the Calendar service using the credentials\n",
        "    return build('calendar', 'v3', credentials = creds)\n",
        "\n",
        "print(creds.scopes) # SHOULD HAVE READ/WRITE SCOPE\n",
        "\n"
      ],
      "metadata": {
        "id": "N3vxBit3qyON",
        "colab": {
          "base_uri": "https://localhost:8080/"
        },
        "outputId": "243ce7ff-b0fd-4d75-d2de-fd1e867c2916"
      },
      "execution_count": 5,
      "outputs": [
        {
          "output_type": "stream",
          "name": "stdout",
          "text": [
            "['https://www.googleapis.com/auth/calendar.events']\n"
          ]
        }
      ]
    },
    {
      "cell_type": "code",
      "source": [
        "# PROMPT I AM USING FOR TESTING\n",
        "#I have a hectic week coming up... On Monday and Wednesday, I have Math from 10AM to 12PM. History from 1PM to 2PM. Science from 2:30PM to 3:45PM, and finally work from 5PM to 9PM. On Tuesday, I have to study for a history exam later in the week on Thursday. Finally, on Friday, I have to make time for intramural soccer practice at 2PM to 4PM.\n",
        "\n",
        "# INTRODUCTORY MESSAGE FOR USER\n",
        "user_intro = \"Hello, I am a task scheduler here to assist you on your academic journey. Simply tell me what responsibilities you have this week for any given day, and I will generate a schedule fit to your needs.\"\n",
        "print(user_intro)\n",
        "\n",
        "# PROMPTING USER FOR THEIR SCHEDULE INPUT\n",
        "user_input = gr.Textbox(label = \"Enter your responsibilities for each day...\", placeholder = \"Monday: Biology from 11AM to 12:30PM, Math from 1PM to 2:15PM, Work from 4PM to 9PM, Need to study for math exam..., etc.\")\n",
        "\n",
        "# GENERATING THE USER SCHEDULE. SYSTEM PROMPT BELOW WAS GENERATED BY AI, CAN ALTER FOR DIFFERENT RESULT. (CHANGING WILL REQUIRE MODIFICATION OF REGEX PATTERN IN EXPORT FUNCTION)\n",
        "def generate_user_schedule(user_input):\n",
        "  prompt_for_model = f\"\"\"Generate a daily schedule for each day of the week based on the following user responsibilities:\n",
        "\n",
        "{user_input}\n",
        "\n",
        "Format the output in the following structure:\n",
        "- Start each day with the day name on its own line, like: **Monday**\n",
        "- Use this format for each task on that day:\n",
        "  - HH:MM AM/PM - HH:MM AM/PM: Task Description\n",
        "\n",
        "Make sure the time ranges are written with both start and end times, using AM/PM and the colon (:) format (e.g., 10:00 AM - 12:00 PM).\n",
        "\"\"\"\n",
        "\n",
        "  input = tokenizer(prompt_for_model, return_tensors = \"pt\").to(\"cuda\") # TOKENIZES THE USER INPUT\n",
        "  output = model.generate(**input, max_new_tokens = 1024) # MODEL GENERATES TOKENIZED OUTPUT BASED ON INPUT\n",
        "  return tokenizer.decode(output[0], skip_special_tokens = True) # DECODES THE TOKENIZED OUTPUT AND RETURNS IT FOR USER\n",
        "\n",
        "# EXPORTING SCHEDULE TO GOOGLE CALENDAR\n",
        "def export_to_google_calendar(schedule_text):\n",
        "    auth = auth_google_calendar()\n",
        "\n",
        "    today = datetime.date.today()\n",
        "    monday = today + datetime.timedelta(days=(7 - today.weekday()) % 7)\n",
        "\n",
        "    day_offset = {\n",
        "        \"monday\": 0, \"tuesday\": 1, \"wednesday\": 2,\n",
        "        \"thursday\": 3, \"friday\": 4, \"saturday\": 5, \"sunday\": 6\n",
        "    }\n",
        "\n",
        "    current_day = None\n",
        "    added_events = 0\n",
        "\n",
        "    for line in schedule_text.splitlines(): # I got help from AI on the regex patterns as well, never worked with them before. These are used to match the days and events so that correct information from the output can be extracted and sent to user's calendar.\n",
        "        line = line.strip()\n",
        "\n",
        "        # Detect day header (e.g. \"Wednesday\")\n",
        "        day_match = re.match(r'^\\*{0,2}(Monday|Tuesday|Wednesday|Thursday|Friday|Saturday|Sunday)\\*{0,2}$', line, re.IGNORECASE)\n",
        "        if day_match:\n",
        "            current_day = day_match.group(1).strip().lower()\n",
        "            continue\n",
        "\n",
        "        # Match event lines like: \"- 10:00 AM - 12:00 PM: Math\"\n",
        "        event_match = re.match(\n",
        "            r'^[-•]?\\s*(\\d{1,2}:\\d{2}\\s*[AaPp][Mm])\\s*-\\s*(\\d{1,2}:\\d{2}\\s*[AaPp][Mm])\\s*:\\s*(.+)$',\n",
        "            line\n",
        "        )\n",
        "\n",
        "\n",
        "        if current_day and event_match:\n",
        "            try:\n",
        "                # Extract and clean up time fields (handling extra spaces)\n",
        "                start_time_str = event_match.group(1).strip()\n",
        "                end_time_str = event_match.group(2).strip()\n",
        "                task = event_match.group(3).strip()\n",
        "\n",
        "                # Parse datetime (removing extra spaces just in case)\n",
        "                event_date = monday + datetime.timedelta(days=day_offset[current_day])\n",
        "\n",
        "                # Try parsing times directly (handles AM/PM format)\n",
        "                start_dt = datetime.datetime.strptime(start_time_str, \"%I:%M %p\")\n",
        "                end_dt = datetime.datetime.strptime(end_time_str, \"%I:%M %p\")\n",
        "\n",
        "                # Create start and end datetime with proper date attached\n",
        "                start_datetime = datetime.datetime.combine(event_date, start_dt.time())\n",
        "                end_datetime = datetime.datetime.combine(event_date, end_dt.time())\n",
        "\n",
        "                # Add event to Google Calendar\n",
        "                event = {\n",
        "                    'summary': task,\n",
        "                    'start': {'dateTime': start_datetime.isoformat(), 'timeZone': 'America/Chicago'},\n",
        "                    'end': {'dateTime': end_datetime.isoformat(), 'timeZone': 'America/Chicago'}\n",
        "                }\n",
        "\n",
        "                auth.events().insert(calendarId='primary', body=event).execute()\n",
        "                added_events += 1\n",
        "            except Exception as e:\n",
        "                print(f\"Error adding event: {e}\")\n",
        "\n",
        "    return f\"{added_events} event(s) successfully added to your Google Calendar!\"\n",
        "\n",
        "# BUILDING GRADIO USER INTERFACE\n",
        "with gr.Blocks() as demo:\n",
        "  with gr.Row():\n",
        "    with gr.Column():\n",
        "      user_input = gr.Textbox(\n",
        "          label = \"Enter your responsibilities for each day...\",\n",
        "          placeholder = \"Monday: Biology from 11AM to 12:30PM, Math from 1PM to 2:15PM, Work from 4PM to 9PM, Need to study for math exam..., etc.\",\n",
        "          lines = 10\n",
        "      )\n",
        "      generate_button = gr.Button(\"Generate Schedule\")\n",
        "\n",
        "    with gr.Column():\n",
        "      generated_schedule_output = gr.Textbox(label = \"Your Generated Schedule\", lines = 10)\n",
        "      with gr.Row():\n",
        "        export_to_google_calendar_button = gr.Button(\"Export to your Google Calendar!\")\n",
        "\n",
        "    generate_button.click(fn = generate_user_schedule, inputs = user_input, outputs = generated_schedule_output) # GENERATE BUTTON OUTPUTS USER'S PERSONALIZED SCHEDULE\n",
        "    export_to_google_calendar_button.click(fn = export_to_google_calendar, inputs = generated_schedule_output, outputs = gr.Textbox(label = \"Export Status\")) # NO OUTPUT, SIMPLY EXPORTING TO GOOGLE CALENDAR\n",
        "\n",
        "\n",
        "demo.launch()"
      ],
      "metadata": {
        "colab": {
          "base_uri": "https://localhost:8080/",
          "height": 646
        },
        "id": "CWjTrvDih1Pk",
        "outputId": "4c980993-17be-4489-c9ad-03289bfabf6f"
      },
      "execution_count": 6,
      "outputs": [
        {
          "output_type": "stream",
          "name": "stdout",
          "text": [
            "Hello, I am a task scheduler here to assist you on your academic journey. Simply tell me what responsibilities you have this week for any given day, and I will generate a schedule fit to your needs.\n",
            "It looks like you are running Gradio on a hosted a Jupyter notebook. For the Gradio app to work, sharing must be enabled. Automatically setting `share=True` (you can turn this off by setting `share=False` in `launch()` explicitly).\n",
            "\n",
            "Colab notebook detected. To show errors in colab notebook, set debug=True in launch()\n",
            "* Running on public URL: https://6cf0ba1e2f4fe779a7.gradio.live\n",
            "\n",
            "This share link expires in 1 week. For free permanent hosting and GPU upgrades, run `gradio deploy` from the terminal in the working directory to deploy to Hugging Face Spaces (https://huggingface.co/spaces)\n"
          ]
        },
        {
          "output_type": "display_data",
          "data": {
            "text/plain": [
              "<IPython.core.display.HTML object>"
            ],
            "text/html": [
              "<div><iframe src=\"https://6cf0ba1e2f4fe779a7.gradio.live\" width=\"100%\" height=\"500\" allow=\"autoplay; camera; microphone; clipboard-read; clipboard-write;\" frameborder=\"0\" allowfullscreen></iframe></div>"
            ]
          },
          "metadata": {}
        },
        {
          "output_type": "execute_result",
          "data": {
            "text/plain": []
          },
          "metadata": {},
          "execution_count": 6
        }
      ]
    }
  ],
  "metadata": {
    "colab": {
      "provenance": [],
      "gpuType": "A100",
      "machine_shape": "hm",
      "authorship_tag": "ABX9TyOJDzZcx04QbJS9FysopwWb",
      "include_colab_link": true
    },
    "kernelspec": {
      "display_name": "Python 3",
      "name": "python3"
    },
    "language_info": {
      "name": "python"
    },
    "widgets": {
      "application/vnd.jupyter.widget-state+json": {
        "c63d26ea7297401d8e7edb538b17e8a8": {
          "model_module": "@jupyter-widgets/controls",
          "model_name": "HBoxModel",
          "model_module_version": "1.5.0",
          "state": {
            "_dom_classes": [],
            "_model_module": "@jupyter-widgets/controls",
            "_model_module_version": "1.5.0",
            "_model_name": "HBoxModel",
            "_view_count": null,
            "_view_module": "@jupyter-widgets/controls",
            "_view_module_version": "1.5.0",
            "_view_name": "HBoxView",
            "box_style": "",
            "children": [
              "IPY_MODEL_b657240c5a1c40c1a45ec3ce3eb1981d",
              "IPY_MODEL_957dd783f692481fb5380b282a13c543",
              "IPY_MODEL_77857079018845698032badd4a2958cc"
            ],
            "layout": "IPY_MODEL_ea5aa2b3269c4af5b9fde464485f46f6"
          }
        },
        "b657240c5a1c40c1a45ec3ce3eb1981d": {
          "model_module": "@jupyter-widgets/controls",
          "model_name": "HTMLModel",
          "model_module_version": "1.5.0",
          "state": {
            "_dom_classes": [],
            "_model_module": "@jupyter-widgets/controls",
            "_model_module_version": "1.5.0",
            "_model_name": "HTMLModel",
            "_view_count": null,
            "_view_module": "@jupyter-widgets/controls",
            "_view_module_version": "1.5.0",
            "_view_name": "HTMLView",
            "description": "",
            "description_tooltip": null,
            "layout": "IPY_MODEL_9baa5ce468bf4df1826a28a65409c91f",
            "placeholder": "​",
            "style": "IPY_MODEL_968194aa76ed4a74a3fe25e7f47ccd69",
            "value": "Loading checkpoint shards: 100%"
          }
        },
        "957dd783f692481fb5380b282a13c543": {
          "model_module": "@jupyter-widgets/controls",
          "model_name": "FloatProgressModel",
          "model_module_version": "1.5.0",
          "state": {
            "_dom_classes": [],
            "_model_module": "@jupyter-widgets/controls",
            "_model_module_version": "1.5.0",
            "_model_name": "FloatProgressModel",
            "_view_count": null,
            "_view_module": "@jupyter-widgets/controls",
            "_view_module_version": "1.5.0",
            "_view_name": "ProgressView",
            "bar_style": "success",
            "description": "",
            "description_tooltip": null,
            "layout": "IPY_MODEL_edd0ed2a77864cf8b5f6a5fd5def7471",
            "max": 4,
            "min": 0,
            "orientation": "horizontal",
            "style": "IPY_MODEL_78c9a0963deb43f29e918294d44ad597",
            "value": 4
          }
        },
        "77857079018845698032badd4a2958cc": {
          "model_module": "@jupyter-widgets/controls",
          "model_name": "HTMLModel",
          "model_module_version": "1.5.0",
          "state": {
            "_dom_classes": [],
            "_model_module": "@jupyter-widgets/controls",
            "_model_module_version": "1.5.0",
            "_model_name": "HTMLModel",
            "_view_count": null,
            "_view_module": "@jupyter-widgets/controls",
            "_view_module_version": "1.5.0",
            "_view_name": "HTMLView",
            "description": "",
            "description_tooltip": null,
            "layout": "IPY_MODEL_7717e9072587484ba26459d8cc2b58b1",
            "placeholder": "​",
            "style": "IPY_MODEL_f6dfe3fb42b84293b13018678d3d0c77",
            "value": " 4/4 [00:04&lt;00:00,  1.19s/it]"
          }
        },
        "ea5aa2b3269c4af5b9fde464485f46f6": {
          "model_module": "@jupyter-widgets/base",
          "model_name": "LayoutModel",
          "model_module_version": "1.2.0",
          "state": {
            "_model_module": "@jupyter-widgets/base",
            "_model_module_version": "1.2.0",
            "_model_name": "LayoutModel",
            "_view_count": null,
            "_view_module": "@jupyter-widgets/base",
            "_view_module_version": "1.2.0",
            "_view_name": "LayoutView",
            "align_content": null,
            "align_items": null,
            "align_self": null,
            "border": null,
            "bottom": null,
            "display": null,
            "flex": null,
            "flex_flow": null,
            "grid_area": null,
            "grid_auto_columns": null,
            "grid_auto_flow": null,
            "grid_auto_rows": null,
            "grid_column": null,
            "grid_gap": null,
            "grid_row": null,
            "grid_template_areas": null,
            "grid_template_columns": null,
            "grid_template_rows": null,
            "height": null,
            "justify_content": null,
            "justify_items": null,
            "left": null,
            "margin": null,
            "max_height": null,
            "max_width": null,
            "min_height": null,
            "min_width": null,
            "object_fit": null,
            "object_position": null,
            "order": null,
            "overflow": null,
            "overflow_x": null,
            "overflow_y": null,
            "padding": null,
            "right": null,
            "top": null,
            "visibility": null,
            "width": null
          }
        },
        "9baa5ce468bf4df1826a28a65409c91f": {
          "model_module": "@jupyter-widgets/base",
          "model_name": "LayoutModel",
          "model_module_version": "1.2.0",
          "state": {
            "_model_module": "@jupyter-widgets/base",
            "_model_module_version": "1.2.0",
            "_model_name": "LayoutModel",
            "_view_count": null,
            "_view_module": "@jupyter-widgets/base",
            "_view_module_version": "1.2.0",
            "_view_name": "LayoutView",
            "align_content": null,
            "align_items": null,
            "align_self": null,
            "border": null,
            "bottom": null,
            "display": null,
            "flex": null,
            "flex_flow": null,
            "grid_area": null,
            "grid_auto_columns": null,
            "grid_auto_flow": null,
            "grid_auto_rows": null,
            "grid_column": null,
            "grid_gap": null,
            "grid_row": null,
            "grid_template_areas": null,
            "grid_template_columns": null,
            "grid_template_rows": null,
            "height": null,
            "justify_content": null,
            "justify_items": null,
            "left": null,
            "margin": null,
            "max_height": null,
            "max_width": null,
            "min_height": null,
            "min_width": null,
            "object_fit": null,
            "object_position": null,
            "order": null,
            "overflow": null,
            "overflow_x": null,
            "overflow_y": null,
            "padding": null,
            "right": null,
            "top": null,
            "visibility": null,
            "width": null
          }
        },
        "968194aa76ed4a74a3fe25e7f47ccd69": {
          "model_module": "@jupyter-widgets/controls",
          "model_name": "DescriptionStyleModel",
          "model_module_version": "1.5.0",
          "state": {
            "_model_module": "@jupyter-widgets/controls",
            "_model_module_version": "1.5.0",
            "_model_name": "DescriptionStyleModel",
            "_view_count": null,
            "_view_module": "@jupyter-widgets/base",
            "_view_module_version": "1.2.0",
            "_view_name": "StyleView",
            "description_width": ""
          }
        },
        "edd0ed2a77864cf8b5f6a5fd5def7471": {
          "model_module": "@jupyter-widgets/base",
          "model_name": "LayoutModel",
          "model_module_version": "1.2.0",
          "state": {
            "_model_module": "@jupyter-widgets/base",
            "_model_module_version": "1.2.0",
            "_model_name": "LayoutModel",
            "_view_count": null,
            "_view_module": "@jupyter-widgets/base",
            "_view_module_version": "1.2.0",
            "_view_name": "LayoutView",
            "align_content": null,
            "align_items": null,
            "align_self": null,
            "border": null,
            "bottom": null,
            "display": null,
            "flex": null,
            "flex_flow": null,
            "grid_area": null,
            "grid_auto_columns": null,
            "grid_auto_flow": null,
            "grid_auto_rows": null,
            "grid_column": null,
            "grid_gap": null,
            "grid_row": null,
            "grid_template_areas": null,
            "grid_template_columns": null,
            "grid_template_rows": null,
            "height": null,
            "justify_content": null,
            "justify_items": null,
            "left": null,
            "margin": null,
            "max_height": null,
            "max_width": null,
            "min_height": null,
            "min_width": null,
            "object_fit": null,
            "object_position": null,
            "order": null,
            "overflow": null,
            "overflow_x": null,
            "overflow_y": null,
            "padding": null,
            "right": null,
            "top": null,
            "visibility": null,
            "width": null
          }
        },
        "78c9a0963deb43f29e918294d44ad597": {
          "model_module": "@jupyter-widgets/controls",
          "model_name": "ProgressStyleModel",
          "model_module_version": "1.5.0",
          "state": {
            "_model_module": "@jupyter-widgets/controls",
            "_model_module_version": "1.5.0",
            "_model_name": "ProgressStyleModel",
            "_view_count": null,
            "_view_module": "@jupyter-widgets/base",
            "_view_module_version": "1.2.0",
            "_view_name": "StyleView",
            "bar_color": null,
            "description_width": ""
          }
        },
        "7717e9072587484ba26459d8cc2b58b1": {
          "model_module": "@jupyter-widgets/base",
          "model_name": "LayoutModel",
          "model_module_version": "1.2.0",
          "state": {
            "_model_module": "@jupyter-widgets/base",
            "_model_module_version": "1.2.0",
            "_model_name": "LayoutModel",
            "_view_count": null,
            "_view_module": "@jupyter-widgets/base",
            "_view_module_version": "1.2.0",
            "_view_name": "LayoutView",
            "align_content": null,
            "align_items": null,
            "align_self": null,
            "border": null,
            "bottom": null,
            "display": null,
            "flex": null,
            "flex_flow": null,
            "grid_area": null,
            "grid_auto_columns": null,
            "grid_auto_flow": null,
            "grid_auto_rows": null,
            "grid_column": null,
            "grid_gap": null,
            "grid_row": null,
            "grid_template_areas": null,
            "grid_template_columns": null,
            "grid_template_rows": null,
            "height": null,
            "justify_content": null,
            "justify_items": null,
            "left": null,
            "margin": null,
            "max_height": null,
            "max_width": null,
            "min_height": null,
            "min_width": null,
            "object_fit": null,
            "object_position": null,
            "order": null,
            "overflow": null,
            "overflow_x": null,
            "overflow_y": null,
            "padding": null,
            "right": null,
            "top": null,
            "visibility": null,
            "width": null
          }
        },
        "f6dfe3fb42b84293b13018678d3d0c77": {
          "model_module": "@jupyter-widgets/controls",
          "model_name": "DescriptionStyleModel",
          "model_module_version": "1.5.0",
          "state": {
            "_model_module": "@jupyter-widgets/controls",
            "_model_module_version": "1.5.0",
            "_model_name": "DescriptionStyleModel",
            "_view_count": null,
            "_view_module": "@jupyter-widgets/base",
            "_view_module_version": "1.2.0",
            "_view_name": "StyleView",
            "description_width": ""
          }
        }
      }
    },
    "accelerator": "GPU"
  },
  "nbformat": 4,
  "nbformat_minor": 0
}